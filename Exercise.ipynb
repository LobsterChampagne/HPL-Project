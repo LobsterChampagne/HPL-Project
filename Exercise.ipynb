{
 "cells": [
  {
   "cell_type": "markdown",
   "id": "07e80f7a",
   "metadata": {},
   "source": [
    "This is a draft for the exercises"
   ]
  },
  {
   "cell_type": "markdown",
   "id": "f501aee0",
   "metadata": {},
   "source": [
    "# Exercise draft"
   ]
  },
  {
   "cell_type": "markdown",
   "id": "ed6bdad2",
   "metadata": {},
   "source": [
    "### Ex 1\n",
    "\n",
    "We are going to work with anonymized health data.\n",
    "\n",
    "1.1\n",
    "Use pandas to load in the dataset\n",
    "\n",
    "It should look something like this:\n",
    "\n",
    "id | status\n",
    "---|---\n",
    "1 | 2"
   ]
  },
  {
   "cell_type": "code",
   "execution_count": 1,
   "id": "027cf2c4",
   "metadata": {},
   "outputs": [],
   "source": [
    "# TODO"
   ]
  },
  {
   "cell_type": "markdown",
   "id": "61280d4a",
   "metadata": {},
   "source": [
    "### Ex 2"
   ]
  },
  {
   "cell_type": "markdown",
   "id": "78fc52fb",
   "metadata": {},
   "source": [
    "The data is in the wrong format.\n",
    "\n",
    "Change the ..."
   ]
  },
  {
   "cell_type": "code",
   "execution_count": 2,
   "id": "58541b25",
   "metadata": {},
   "outputs": [],
   "source": [
    "# TODO"
   ]
  },
  {
   "cell_type": "code",
   "execution_count": null,
   "id": "0b6e3958",
   "metadata": {},
   "outputs": [],
   "source": []
  }
 ],
 "metadata": {
  "kernelspec": {
   "display_name": "Python 3 (ipykernel)",
   "language": "python",
   "name": "python3"
  },
  "language_info": {
   "codemirror_mode": {
    "name": "ipython",
    "version": 3
   },
   "file_extension": ".py",
   "mimetype": "text/x-python",
   "name": "python",
   "nbconvert_exporter": "python",
   "pygments_lexer": "ipython3",
   "version": "3.10.2"
  }
 },
 "nbformat": 4,
 "nbformat_minor": 5
}
