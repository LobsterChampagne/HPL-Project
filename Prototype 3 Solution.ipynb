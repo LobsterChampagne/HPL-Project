{
 "cells": [
  {
   "cell_type": "markdown",
   "id": "d79f3ae0-05f6-4ba4-960a-5d6800f7e7b5",
   "metadata": {},
   "source": [
    "### To the teacher"
   ]
  },
  {
   "cell_type": "markdown",
   "id": "74d15d44-4b41-4904-8cfe-a10d42826b9a",
   "metadata": {},
   "source": [
    "If it is desired that the students should have a larger emphasis on learning either the code or discussion part, the notebook could easily be adapted by removing some parts. The coding questions have been made to be easy, but if the students are expected to be proficcient at python, pandas and they have some prior knowledge of the algorithms you could remove more of the solution to make the exercies harder. You could even remove the skeleton of whole functions if they are expected some write the solutions on their own based on the described algorithms."
   ]
  },
  {
   "cell_type": "markdown",
   "id": "51afad7c-0d1e-4ca3-b8c1-46df4451ab9c",
   "metadata": {},
   "source": [
    "# Jupyter notebook for Privacy in Data Storage\n",
    "\n",
    "In this notebook we explore **privacy** and **ethics** in **Data Storage**. We will look at the concepts **k-anonymity, l-diversity, t-closeness**, but also have **discussions** about ethics you should be aware of when working with sensitive data.\n",
    "\n",
    "The first part contains some discussions to get you started and an example of anonymization of a dataset using k-anonymity. Then you will work with implementing an algorithm to achieve k-anonymity and finally you review your learning with some reflection questions in the end.\n",
    "\n",
    "It is preferable to do the discussions in **groups** as it could introduce more perspectives and maybe you could challenge your beliefs.\n",
    "\n",
    "This file should be opened in **Jupyter Lab**, as it allowes for **collapsed cells** which is important for the progression of the notebook."
   ]
  },
  {
   "cell_type": "markdown",
   "id": "f746c11c-3823-4de7-aa0f-f1560becf4cf",
   "metadata": {},
   "source": [
    "### Types of exercises"
   ]
  },
  {
   "cell_type": "markdown",
   "id": "241fbb6a-83eb-4400-939b-7905530fa631",
   "metadata": {},
   "source": [
    "<div style=\"padding:8px 0 3px 15px;border-left:3px solid #a50000;background-color:#fce5e5;\">\n",
    "    <span style=\"font-weight:bold;text-decoration:underline;\">Discussion</span><br/>\n",
    "    \n",
    "Parts that are styled like this are discussion questions where you are supposed to discuss with your group to come up with an answer and write your arguments in the cell below.\n",
    "</div>"
   ]
  },
  {
   "cell_type": "raw",
   "id": "68ab00a0-eccc-424e-a022-892ed95bf4fb",
   "metadata": {},
   "source": []
  },
  {
   "cell_type": "markdown",
   "id": "4d2690d8-564b-4c88-98bd-204649e04b09",
   "metadata": {},
   "source": [
    "<div style=\"padding:8px 0 3px 15px;border-left:3px solid #5661e2;background-color:#e5f2fc;\">\n",
    "    <span style=\"font-weight:bold;text-decoration:underline;\">Question</span><br/>\n",
    "    \n",
    "Questions are part of the notebook progression. You will need to discuss and answer them to reflect on what you just have seen, but often an answer is following below, which you should check **after** you have answered.\n",
    "</div>"
   ]
  },
  {
   "cell_type": "raw",
   "id": "9b505e72-de34-4e1a-9f33-db84b401c5ca",
   "metadata": {},
   "source": []
  },
  {
   "cell_type": "markdown",
   "id": "7bb87f3c-8f7b-4381-ae21-81cef80001b8",
   "metadata": {},
   "source": [
    "<div style=\"padding:8px 0 3px 15px;border-left:3px solid #6ffc64;background-color:#e2fce0;\">\n",
    "    <span style=\"font-weight:bold;text-decoration:underline;\">Coding exercise</span><br/>\n",
    "    \n",
    "You are supposed to fill in after the `### TODO` part of the code to make it work properly. You can check for correctness by running the codecell and the cells below as they often show what the output is supposed to be.\n",
    "</div>"
   ]
  },
  {
   "cell_type": "code",
   "execution_count": 1,
   "id": "4f74f863-8b5e-49be-9916-3fc92b9f09ab",
   "metadata": {},
   "outputs": [],
   "source": [
    "def example_function(a, b):\n",
    "    \"\"\"\n",
    "    :param        a: user defined int\n",
    "    :param        b: user defined int\n",
    "    :       returns: a + b\n",
    "    \"\"\"\n",
    "    ### TODO"
   ]
  },
  {
   "cell_type": "markdown",
   "id": "9bfc8155-f00f-47ea-b533-2886d16a56a3",
   "metadata": {},
   "source": [
    "### The goal of this notebook\n",
    "\n",
    "1. Be able to anonymize data and analyse anonymous data for re-identification\n",
    "\n",
    "2. Learn the concepts of k-anonymity, l-diversity, t-closeness as examples of privacy related topics\n",
    "\n",
    "3. Identify assumptions and biases in some datasets. For example in categorising data, in particular for a categorisation that is up for discussion (e.g. gender = [male, female])\n",
    "\n",
    "4. The students should be able to analyse the potential dangers (The impact on (vulnerable) users, society and source of the data) of working with unrestricted and controversial data like health diseases, crime or similar topics"
   ]
  },
  {
   "cell_type": "markdown",
   "id": "b7d1de19-722f-445a-b78c-0bd7d9e1b957",
   "metadata": {},
   "source": [
    "### Prior knowledge needed\n",
    "\n",
    "- The user should be familiar with python and jupyter notebooks\n",
    "\n",
    "- The user should be familiar with the pandas library in python"
   ]
  },
  {
   "cell_type": "markdown",
   "id": "a87054c1",
   "metadata": {
    "tags": []
   },
   "source": [
    "## Introduction discussion\n",
    "\n",
    "---"
   ]
  },
  {
   "cell_type": "markdown",
   "id": "3e8fe81b",
   "metadata": {},
   "source": [
    "Before we go through with an example of anonymization you should discuss the following questions with you group."
   ]
  },
  {
   "cell_type": "markdown",
   "id": "253b9bc5",
   "metadata": {},
   "source": [
    "<div style=\"padding:8px 0 3px 15px;border-left:3px solid #a50000;background-color:#fce5e5;\">\n",
    "    <span style=\"font-weight:bold;text-decoration:underline;\">Discussion</span><br/>\n",
    "    \n",
    "What is the meaning of **sensitive data** according to you? Could you name some?\n",
    "</div>"
   ]
  },
  {
   "cell_type": "raw",
   "id": "dc1a279c-f06b-46cc-a472-88798a9c403c",
   "metadata": {},
   "source": [
    "The following personal data is considered ‘sensitive’ and is subject to specific processing conditions:\n",
    "\n",
    "- personal data revealing racial or ethnic origin, political opinions, religious or philosophical beliefs;\n",
    "- trade-union membership;\n",
    "- genetic data, biometric data processed solely to identify a human being;\n",
    "- health-related data;\n",
    "- data concerning a person’s sex life or sexual orientation.\n",
    "\n",
    "According to the EU."
   ]
  },
  {
   "cell_type": "markdown",
   "id": "ad428961",
   "metadata": {},
   "source": [
    "<div style=\"padding:8px 0 3px 15px;border-left:3px solid #a50000;background-color:#fce5e5;\">\n",
    "    <span style=\"font-weight:bold;text-decoration:underline;\">Discussion</span><br/>\n",
    "    \n",
    "What is the purpose of anonymization? Is it even important?\n",
    "</div>"
   ]
  },
  {
   "cell_type": "raw",
   "id": "87fdc4f2",
   "metadata": {},
   "source": [
    "To comply with laws. To be able to publish data for science. It is important, because failing to anonymize when required could lead to expensive lawsuits etc.\n",
    "\n"
   ]
  },
  {
   "cell_type": "markdown",
   "id": "eb62db0b",
   "metadata": {},
   "source": [
    "<div style=\"padding:8px 0 3px 15px;border-left:3px solid #a50000;background-color:#fce5e5;\">\n",
    "    <span style=\"font-weight:bold;text-decoration:underline;\">Discussion</span><br/>\n",
    "    \n",
    "What are the issues linked to re-identification of a person?\n",
    "</div>"
   ]
  },
  {
   "cell_type": "raw",
   "id": "9c3c5d32",
   "metadata": {},
   "source": [
    "You could mention that data from a dataset where the person was re-identified could be used nefariously against the exposed person. You could come with examples of malicious actions an adversary could take. You could mention loss of privacy of the user. You could mention the action that is needed to be done after an re-identification is exposed.\n"
   ]
  },
  {
   "cell_type": "markdown",
   "id": "f624c8ad-62c3-415b-ae38-a4ddd44a121b",
   "metadata": {},
   "source": [
    "<div style=\"padding:8px 0 3px 15px;border-left:3px solid #a50000;background-color:#fce5e5;\">\n",
    "    <span style=\"font-weight:bold;text-decoration:underline;\">Discussion</span><br/>\n",
    "    \n",
    "What problems arise when a dataset contains biases and skews?\n",
    "</div>"
   ]
  },
  {
   "cell_type": "raw",
   "id": "03208694-8c05-4952-9e07-c15f1ae83f0e",
   "metadata": {},
   "source": [
    "The output of what is done with the data would also contain biases and skews. Machine learning trained on \"racist\" data could end up being racist. etc.\n",
    "Wrong judgement and decision making could be bad if it is based on skewed data.\n",
    "\n"
   ]
  },
  {
   "cell_type": "markdown",
   "id": "1376c669",
   "metadata": {
    "tags": []
   },
   "source": [
    "# Anonymization of data\n",
    "\n",
    "---"
   ]
  },
  {
   "cell_type": "markdown",
   "id": "63dca5a5",
   "metadata": {},
   "source": [
    "In the following part we will go through an example of where anonymization could be useful and k-anonymity could help achieve anonymization."
   ]
  },
  {
   "cell_type": "markdown",
   "id": "7c112920",
   "metadata": {},
   "source": [
    "Health information is widely acknowledged to be sensitive personal information. Information of this type may contain facts about an individual that can be used by insurance companies, future employers or others against the benefit of the person involved. For this reason, in many countries and jurisdictions, gathering, storing and publishing such data by third parties is limited by laws and regulations. In general, the goal of this type of legislation is twofold. For a third party to be allowed to process health data, either:"
   ]
  },
  {
   "cell_type": "markdown",
   "id": "3e339515",
   "metadata": {},
   "source": [
    "* the person the information is about has given permission for usage\n",
    "* the data is changed in such a way that it is not possible to determine the identity of the individual\n"
   ]
  },
  {
   "cell_type": "markdown",
   "id": "b7ccd58f",
   "metadata": {},
   "source": [
    "Although health data is sensitive in the sense described above, large health datasets can offer a wealth of information to scientists and researchers, for example in determining the effects of specific medication or finding correlations between lifestyle and disease. However, datasets with this type of information may not be used without satisfying either of the conditions mentioned."
   ]
  },
  {
   "cell_type": "markdown",
   "id": "4d406852",
   "metadata": {},
   "source": [
    "Especially for large existing datasets, it can be very difficult, if not completely infeasible, to obtain permission from each individual in the dataset. In order to use this data without jeopardizing an individuals privacy and stay within legal boundaries, the data needs to be changed in such a way that it is impossible to determine the identity of individual the information is about. This process is commonly referred to as **anonymization**."
   ]
  },
  {
   "cell_type": "markdown",
   "id": "203fb240",
   "metadata": {},
   "source": [
    "A common solution for anonymization is simply removing all values from the dataset that identify a person directly, e.g. remove a person's name and SSI. Sometimes a variant known as pseudonimization is used, where this information is not removed, but replaced by a specific ID number. This ID number can only be traced back to the person involved through a Trusted Third Party (TTP)"
   ]
  },
  {
   "cell_type": "markdown",
   "id": "91098d42",
   "metadata": {},
   "source": [
    "Depending on context, these methods have advantages and disadvantages. One important observation however, is that very often the second condition is not adequately satisfied: it is still possible to infer the identity of the person involved from the given data."
   ]
  },
  {
   "cell_type": "markdown",
   "id": "8055ba71",
   "metadata": {},
   "source": [
    "Consider the following (hypothetical) example of an anonymized dataset published by Dr. Bob for medical research:"
   ]
  },
  {
   "cell_type": "markdown",
   "id": "7691a537-19cf-4434-8e8a-838560d4ccc3",
   "metadata": {
    "tags": []
   },
   "source": [
    "##### Table 1"
   ]
  },
  {
   "cell_type": "markdown",
   "id": "17f9d605",
   "metadata": {
    "tags": []
   },
   "source": [
    "![jupyter](example.png)"
   ]
  },
  {
   "cell_type": "markdown",
   "id": "cb73b732-ba36-4b87-9330-9fed33e8c98b",
   "metadata": {},
   "source": [
    "#####"
   ]
  },
  {
   "cell_type": "markdown",
   "id": "e50ab660",
   "metadata": {
    "jp-MarkdownHeadingCollapsed": true,
    "tags": []
   },
   "source": [
    "<div style=\"padding:8px 0 3px 15px;border-left:3px solid #5661e2;background-color:#e5f2fc;\">\n",
    "    <span style=\"font-weight:bold;text-decoration:underline;\">Question</span><br/>\n",
    "    \n",
    "At first glance, no identifiable information has been leaked in this dataset. But take a moment and discuss with your group. Could there be any potential dangers for anonymity?\n",
    "</div>"
   ]
  },
  {
   "cell_type": "raw",
   "id": "c8a05973",
   "metadata": {},
   "source": [
    "Example below.\n",
    "\n",
    "\n",
    "\n"
   ]
  },
  {
   "cell_type": "markdown",
   "id": "7a79bc2a-be93-45be-8063-a25760e1b6d5",
   "metadata": {
    "jp-MarkdownHeadingCollapsed": true,
    "tags": []
   },
   "source": [
    "##### Continue by showing the cell below"
   ]
  },
  {
   "cell_type": "markdown",
   "id": "c30bb6d9",
   "metadata": {},
   "source": [
    "Imagine you walk by Dr. Bob's office and see a person with the following characteristics:\n",
    "\n",
    "* She is a woman\n",
    "* She is quite young (at least younger than 20 by estimation)\n",
    "* She has an occupation as chef or baker (or something that requires similar attire, as she wears a chef's hat)\n",
    "\n",
    "While any of these characteristics by themselves would match multiple records in the dataset, there's only one record that satisfies all three. Therefore we can learn the medical condition of this person and Dr. Bob has revealed personal information about one of his patients.\n",
    "\n",
    "Of course, in this example re-identifying a person is quite easy, because the dataset is relatively small. In a larger dataset, one could argue, more young, female chefs might be included, making it more difficult or even impossible to determine the exact record in the dataset depicting the person from the photo.\n",
    "\n",
    "This argument makes sense; a real-world dataset would probably contain many more records than the example. However, such a real-world dataset usually also contains many more columns (i.e. more data per record). It's not difficult to see that more data increases the risk of re-identification again. Furthermore, many people may be indistinguishable (or equivalent) within the dataset, but some records will still have a unique combination of values. As an example, someone with a very uncommon profession and being above 100 years old is still easily re-identified in most large datasets."
   ]
  },
  {
   "cell_type": "markdown",
   "id": "76b2ce68-63f6-4cf1-8fc6-3b457122e0d9",
   "metadata": {},
   "source": [
    "#####"
   ]
  },
  {
   "cell_type": "markdown",
   "id": "9f289da5",
   "metadata": {},
   "source": [
    "<div style=\"padding:8px 0 3px 15px;border-left:3px solid #5661e2;background-color:#e5f2fc;\">\n",
    "    <span style=\"font-weight:bold;text-decoration:underline;\">Question</span><br/>\n",
    "    \n",
    "How can we mitigate this type of risk?\n",
    "</div>"
   ]
  },
  {
   "cell_type": "raw",
   "id": "1b13138b",
   "metadata": {},
   "source": [
    "\n",
    "\n",
    "\n",
    "\n"
   ]
  },
  {
   "cell_type": "markdown",
   "id": "8bfe1de5-acb7-4542-b95d-65f7021448f2",
   "metadata": {
    "jp-MarkdownHeadingCollapsed": true,
    "tags": []
   },
   "source": [
    "##### Continue when you have answered above"
   ]
  },
  {
   "cell_type": "markdown",
   "id": "ae1bb3bf",
   "metadata": {},
   "source": [
    "We could leave out many of the columns, but this would destroy most of the analytical value in the data, which defeats the purpose of releasing the data in the first place. A better solution would leave out as much data as needed to prevent re-identification, but not more. Such a solution would allow us to retain analytical value as much as possible, while respecting privacy for subjects involved. The trade-off we seek to optimize can be depicted a follows:\n",
    "\n",
    "![Figure1](example2.png)\n",
    "\n",
    "The solution for the problem described above: make sure that every record has at least one equivalent record, i.e. a record that contains the same values on all properties that are publicly known or easy to determine."
   ]
  },
  {
   "cell_type": "markdown",
   "id": "8f5caf54",
   "metadata": {},
   "source": [
    "## k-anonymity\n",
    "\n",
    "---"
   ]
  },
  {
   "cell_type": "markdown",
   "id": "95692444-f29e-466d-8f64-b7e8b61902fe",
   "metadata": {},
   "source": [
    "The concept of k-anonymity was introduced into information security and privacy back in 1998. It’s built on the idea that by combining sets of data with similar attributes, identifying information about any one of the individuals contributing to that data can be obscured. k-Anonymization is often referred to as the power of ‘hiding in the crowd.’ Individuals’ data is pooled in a larger group, meaning information in the group could correspond to any single member, thus masking the identity of the individual or individuals in question.\n",
    "\n",
    "The k in k-anonymity refers to a variable — think of the classic ‘x’ in your high school algebra class. In this case, k refers to the number of times each combination of values appears in a data set. If k=2, the data is said to be 2-anonymous. This means the data points have been generalized enough that there are at least two sets of every combination of data in the data set."
   ]
  },
  {
   "cell_type": "markdown",
   "id": "201244b4-c28c-46d7-8d0e-cd2af4ff84c9",
   "metadata": {},
   "source": [
    "<div style=\"padding:8px 0 3px 15px;border-left:3px solid #5661e2;background-color:#e5f2fc;\">\n",
    "    <span style=\"font-weight:bold;text-decoration:underline;\">Question</span><br/>\n",
    "    \n",
    "What could be done to achieve **2-anonymity** on the dataset from Dr. Bob ([Table 1](#Table-1))?</br> Check the example below **after** you have come up with your own answer. There could be **multiple** correct answers to the question.\n",
    "</div>"
   ]
  },
  {
   "cell_type": "raw",
   "id": "45060e98-024a-4349-860b-ad7181549a98",
   "metadata": {},
   "source": [
    "There could be other ways than what is described below. In testing at least one other way of 2-anonymity was proposed.\n",
    "\n",
    "\n",
    "\n",
    "\n",
    "\n",
    "\n"
   ]
  },
  {
   "cell_type": "markdown",
   "id": "3e79bceb-d38f-45d0-bca4-83514e4c994a",
   "metadata": {
    "jp-MarkdownHeadingCollapsed": true,
    "tags": []
   },
   "source": [
    "##### Table 2"
   ]
  },
  {
   "cell_type": "markdown",
   "id": "c59a66e2",
   "metadata": {},
   "source": [
    "![Table2](example3.png)\n",
    "\n",
    "When we ignore the (presumably not publicly known) _Medical condition_ column, every record in the table above has at least one duplicate. The smallest set of equivalent records (i.e. the smallest equivalence class) in this table has size two (e.g. the set Male/50+/Yes). Thus this table can be considered 2-anonymous. Note that real-world values for _k_ are usually a lot larger."
   ]
  },
  {
   "cell_type": "markdown",
   "id": "b19e6f8f-b953-41c5-ab97-03af39b741d3",
   "metadata": {
    "jp-MarkdownHeadingCollapsed": true,
    "tags": []
   },
   "source": [
    "## How to achieve k-anonymity\n",
    "---"
   ]
  },
  {
   "cell_type": "markdown",
   "id": "014c177b",
   "metadata": {},
   "source": [
    "Looking at the table above, we can observe the changes that made this dataset reach the 2-anonymity level:\n",
    "\n",
    "* One record was completely suppressed\n",
    "* The age value for each record was classified into one of two categories: 50- or 50+\n",
    "* The occupation value for each record was generalized into Yes or No\n",
    "\n",
    "These observations show two common techniques regularly used in combination to achieve a certain level of anonymity:\n",
    "\n",
    "* Suppression: leaving out records that have a very unique combination of attribute values\n",
    "* Generalization: making values more generic, so that more records share the same value\n",
    "\n",
    "In applying these techniques, decisions have to be made about which records to suppress and to what extent the columns should be generalized. These decisions can depend on the purpose the dataset is released for: age may be a relevant variable in some scientific studies, but less so in others. Very often however, datasets are released for a general purpose or the purpose may be difficult to obtain. In these cases, algorithms may be used that try to reach k-anonymity with the least amount of suppression and generalization possible. These algorithms typically involve trying a lot of combinations of generalization levels and suppression criteria, before an optimal solution is chosen."
   ]
  },
  {
   "cell_type": "markdown",
   "id": "0e48a451-90c4-4d05-8433-f9c57920e1ea",
   "metadata": {
    "tags": []
   },
   "source": [
    "## Implementing k-anonymity"
   ]
  },
  {
   "cell_type": "markdown",
   "id": "665ab619",
   "metadata": {},
   "source": [
    "In this notebook, we'll explore data anonymization, in particular \"k-anonymity\" [1]. We will implement a simple algorithm [2] to produce a k-anonymous dataset.\n",
    "\n",
    "For more reading on the topic, please see: \n",
    "\n",
    "- [k-Anonymity: A Model For Protecting Privacy. Latanya Sweeney](https://epic.org/privacy/reidentification/Sweeney_Article.pdf)\n",
    "- [Mondrian - Multidimensional k-Anonymity](https://www.utdallas.edu/~muratk/courses/privacy08f_files/MultiDim.pdf)\n",
    "\n",
    "Turning a dataset into a k-anonymous (and possibly l-diverse or t-close) dataset is a complex problem, and finding the optimal partition into k-anonymous groups is an NP-hard problem. Fortunately, several practical algorithms exists that often produce \"good enough\" results by employing greedy search techniques.\n",
    "\n",
    "In this tutorial we will explore the so-called \"Mondrian\" algorithm (see link above), which uses a greedy search algorithm to partition the original data into smaller and smaller groups (if we plot the resulting partition boundaries in 2D they resemble the pictures by Piet Mondrian, hence the name).\n",
    "\n",
    "The algorithm assumes that we have converted all attributes into numerical or categorical values and that we're able to measure the \"span\" of a given data attribute $X_i$ (we'll explain that in more detail later)."
   ]
  },
  {
   "cell_type": "markdown",
   "id": "980acc56-99fa-48a8-bd7a-7c2ca507671d",
   "metadata": {},
   "source": [
    "### Partitioning Algorithm"
   ]
  },
  {
   "cell_type": "markdown",
   "id": "1390e0b0",
   "metadata": {},
   "source": [
    "The algorithm proceeds then as follows to partition the data into k-anonymous gorups:\n",
    "\n",
    "1. Initialize the finished set of partitions to an empty set $P_{finished} = \\{\\}$.\n",
    "2. Initialize the working set of partitions to a set containing a partition with the entire dataset $P_{working} = \\{\\{1, 2,\\dots ,N\\}\\}$.\n",
    "4. While there are partitions in the working set, pop one partition from it and\n",
    "  * Calculate the relative spans of all columns in the partition.\n",
    "  * Sort the resulting columns by their span (in descending order) and iterate over them. For each column,\n",
    "      * Try to split the partition along that column using the median of the column values as the split point.\n",
    "      * Check if the resulting partitions are valid according to our k-anonymity (and possibly additional) criteria.\n",
    "      * If yes, add the two new partitions to the working set and break out of the loop.\n",
    "  * If no column produced a valid split, add the original partition to the set of finished partitions.\n",
    "5. Return the finished set of partitions"
   ]
  },
  {
   "cell_type": "markdown",
   "id": "c3f89701-b572-416f-a15e-562d11427bf2",
   "metadata": {},
   "source": [
    "### Data Aggregation"
   ]
  },
  {
   "cell_type": "markdown",
   "id": "4e07d15b",
   "metadata": {},
   "source": [
    "After obtaining the partitions we still need to aggregate the values of the quasi identifiers and the sensitive attributes in each k-anonymous group. For this, we can e.g. replace numerical attributes with their range (e.g. \"age: 24-28\") and categorical attributes with their union (e.g. \"employment-group: [self-employed, employee, worker]\"), though other aggregations are possible. Methods like [Anatomy](http://citeseerx.ist.psu.edu/viewdoc/download?doi=10.1.1.156.9150&rep=rep1&type=pdf) even preserve the micro-data in each group, which increases re-identification risk though.\n",
    "\n",
    "We can then use the anonymized data for privacy-preserving machine learning, e.g. using scikit-learn or something similar."
   ]
  },
  {
   "cell_type": "markdown",
   "id": "b67b3631-1d68-4a1b-9c77-b3a359303039",
   "metadata": {},
   "source": [
    "##"
   ]
  },
  {
   "cell_type": "markdown",
   "id": "0b01ef2c-483d-4680-b342-60775d6dd00d",
   "metadata": {},
   "source": [
    "<div style=\"padding:8px 0 3px 15px;border-left:3px solid #a50000;background-color:#fce5e5;\">\n",
    "    <span style=\"font-weight:bold;text-decoration:underline;\">Discussion</span><br/>\n",
    "    \n",
    "What should you think about after you have implemented k-anonymity on a dataset?\n",
    "</div>"
   ]
  },
  {
   "cell_type": "raw",
   "id": "3cf2d030-524e-4d1c-a2f6-fd0f44dd8cc9",
   "metadata": {},
   "source": [
    "You should check if it is implemented reasonably. You might need to add l-diversity and t-closedness for example. You should analyse for possible side-channels. You should give nessecary information, but be careful about unnessecary revealing information. \n",
    "\n",
    "\n"
   ]
  },
  {
   "cell_type": "markdown",
   "id": "9c6bd5b3",
   "metadata": {},
   "source": [
    "## Programming k-anonymity\n",
    "\n",
    "---"
   ]
  },
  {
   "cell_type": "markdown",
   "id": "81c5e7f0-ea9d-4116-84f2-7cba0a00e50d",
   "metadata": {},
   "source": [
    "Let's get started with the programming!"
   ]
  },
  {
   "cell_type": "code",
   "execution_count": 2,
   "id": "bb22011b",
   "metadata": {},
   "outputs": [],
   "source": [
    "# we use Pandas to work with the data as it makes working with tables of data super easy\n",
    "import pandas as pd"
   ]
  },
  {
   "cell_type": "markdown",
   "id": "906959d7",
   "metadata": {},
   "source": [
    "We start by importing our dataset"
   ]
  },
  {
   "cell_type": "code",
   "execution_count": 3,
   "id": "c31124ba",
   "metadata": {},
   "outputs": [],
   "source": [
    "# this is a list of the column names in our dataset (as the file doesn't contain any headers)\n",
    "names = (\n",
    "    'age',\n",
    "    'workclass', #Private, Self-emp-not-inc, Self-emp-inc, Federal-gov, Local-gov, State-gov, Without-pay, Never-worked.\n",
    "    'fnlwgt', # \"weight\" of that person in the dataset (i.e. how many people does that person represent) -> https://www.kansascityfed.org/research/datamuseum/cps/coreinfo/keyconcepts/weights\n",
    "    'education',\n",
    "    'education-num',\n",
    "    'marital-status',\n",
    "    'occupation',\n",
    "    'relationship',\n",
    "    'race',\n",
    "    'sex',\n",
    "    'capital-gain',\n",
    "    'capital-loss',\n",
    "    'hours-per-week',\n",
    "    'native-country',\n",
    "    'income',\n",
    ")\n",
    "\n",
    "# some fields are categorical and will require special treatment\n",
    "categorical = set((\n",
    "    'workclass',\n",
    "    'education',\n",
    "    'marital-status',\n",
    "    'occupation',\n",
    "    'relationship',\n",
    "    'sex',\n",
    "    'native-country',\n",
    "    'race',\n",
    "    'income',\n",
    "))\n",
    "\n",
    "df = pd.read_csv(\"Data/adult.all.txt\", sep=\", \", header=None, names=names, index_col=False, engine='python');# We load the data using Pandas"
   ]
  },
  {
   "cell_type": "code",
   "execution_count": 4,
   "id": "bdb56abe",
   "metadata": {
    "scrolled": true
   },
   "outputs": [
    {
     "data": {
      "text/html": [
       "<div>\n",
       "<style scoped>\n",
       "    .dataframe tbody tr th:only-of-type {\n",
       "        vertical-align: middle;\n",
       "    }\n",
       "\n",
       "    .dataframe tbody tr th {\n",
       "        vertical-align: top;\n",
       "    }\n",
       "\n",
       "    .dataframe thead th {\n",
       "        text-align: right;\n",
       "    }\n",
       "</style>\n",
       "<table border=\"1\" class=\"dataframe\">\n",
       "  <thead>\n",
       "    <tr style=\"text-align: right;\">\n",
       "      <th></th>\n",
       "      <th>age</th>\n",
       "      <th>workclass</th>\n",
       "      <th>fnlwgt</th>\n",
       "      <th>education</th>\n",
       "      <th>education-num</th>\n",
       "      <th>marital-status</th>\n",
       "      <th>occupation</th>\n",
       "      <th>relationship</th>\n",
       "      <th>race</th>\n",
       "      <th>sex</th>\n",
       "      <th>capital-gain</th>\n",
       "      <th>capital-loss</th>\n",
       "      <th>hours-per-week</th>\n",
       "      <th>native-country</th>\n",
       "      <th>income</th>\n",
       "    </tr>\n",
       "  </thead>\n",
       "  <tbody>\n",
       "    <tr>\n",
       "      <th>48837</th>\n",
       "      <td>39</td>\n",
       "      <td>Private</td>\n",
       "      <td>215419</td>\n",
       "      <td>Bachelors</td>\n",
       "      <td>13</td>\n",
       "      <td>Divorced</td>\n",
       "      <td>Prof-specialty</td>\n",
       "      <td>Not-in-family</td>\n",
       "      <td>White</td>\n",
       "      <td>Female</td>\n",
       "      <td>0</td>\n",
       "      <td>0</td>\n",
       "      <td>36</td>\n",
       "      <td>United-States</td>\n",
       "      <td>&lt;=50k</td>\n",
       "    </tr>\n",
       "    <tr>\n",
       "      <th>48838</th>\n",
       "      <td>64</td>\n",
       "      <td>?</td>\n",
       "      <td>321403</td>\n",
       "      <td>HS-grad</td>\n",
       "      <td>9</td>\n",
       "      <td>Widowed</td>\n",
       "      <td>?</td>\n",
       "      <td>Other-relative</td>\n",
       "      <td>Black</td>\n",
       "      <td>Male</td>\n",
       "      <td>0</td>\n",
       "      <td>0</td>\n",
       "      <td>40</td>\n",
       "      <td>United-States</td>\n",
       "      <td>&lt;=50k</td>\n",
       "    </tr>\n",
       "    <tr>\n",
       "      <th>48839</th>\n",
       "      <td>38</td>\n",
       "      <td>Private</td>\n",
       "      <td>374983</td>\n",
       "      <td>Bachelors</td>\n",
       "      <td>13</td>\n",
       "      <td>Married-civ-spouse</td>\n",
       "      <td>Prof-specialty</td>\n",
       "      <td>Husband</td>\n",
       "      <td>White</td>\n",
       "      <td>Male</td>\n",
       "      <td>0</td>\n",
       "      <td>0</td>\n",
       "      <td>50</td>\n",
       "      <td>United-States</td>\n",
       "      <td>&lt;=50k</td>\n",
       "    </tr>\n",
       "    <tr>\n",
       "      <th>48840</th>\n",
       "      <td>44</td>\n",
       "      <td>Private</td>\n",
       "      <td>83891</td>\n",
       "      <td>Bachelors</td>\n",
       "      <td>13</td>\n",
       "      <td>Divorced</td>\n",
       "      <td>Adm-clerical</td>\n",
       "      <td>Own-child</td>\n",
       "      <td>Asian-Pac-Islander</td>\n",
       "      <td>Male</td>\n",
       "      <td>5455</td>\n",
       "      <td>0</td>\n",
       "      <td>40</td>\n",
       "      <td>United-States</td>\n",
       "      <td>&lt;=50k</td>\n",
       "    </tr>\n",
       "    <tr>\n",
       "      <th>48841</th>\n",
       "      <td>35</td>\n",
       "      <td>Self-emp-inc</td>\n",
       "      <td>182148</td>\n",
       "      <td>Bachelors</td>\n",
       "      <td>13</td>\n",
       "      <td>Married-civ-spouse</td>\n",
       "      <td>Exec-managerial</td>\n",
       "      <td>Husband</td>\n",
       "      <td>White</td>\n",
       "      <td>Male</td>\n",
       "      <td>0</td>\n",
       "      <td>0</td>\n",
       "      <td>60</td>\n",
       "      <td>United-States</td>\n",
       "      <td>&gt;50k</td>\n",
       "    </tr>\n",
       "  </tbody>\n",
       "</table>\n",
       "</div>"
      ],
      "text/plain": [
       "       age     workclass  fnlwgt  education  education-num  \\\n",
       "48837   39       Private  215419  Bachelors             13   \n",
       "48838   64             ?  321403    HS-grad              9   \n",
       "48839   38       Private  374983  Bachelors             13   \n",
       "48840   44       Private   83891  Bachelors             13   \n",
       "48841   35  Self-emp-inc  182148  Bachelors             13   \n",
       "\n",
       "           marital-status       occupation    relationship  \\\n",
       "48837            Divorced   Prof-specialty   Not-in-family   \n",
       "48838             Widowed                ?  Other-relative   \n",
       "48839  Married-civ-spouse   Prof-specialty         Husband   \n",
       "48840            Divorced     Adm-clerical       Own-child   \n",
       "48841  Married-civ-spouse  Exec-managerial         Husband   \n",
       "\n",
       "                     race     sex  capital-gain  capital-loss  hours-per-week  \\\n",
       "48837               White  Female             0             0              36   \n",
       "48838               Black    Male             0             0              40   \n",
       "48839               White    Male             0             0              50   \n",
       "48840  Asian-Pac-Islander    Male          5455             0              40   \n",
       "48841               White    Male             0             0              60   \n",
       "\n",
       "      native-country income  \n",
       "48837  United-States  <=50k  \n",
       "48838  United-States  <=50k  \n",
       "48839  United-States  <=50k  \n",
       "48840  United-States  <=50k  \n",
       "48841  United-States   >50k  "
      ]
     },
     "execution_count": 4,
     "metadata": {},
     "output_type": "execute_result"
    }
   ],
   "source": [
    "# Take a look at the dataset\n",
    "df.tail()"
   ]
  },
  {
   "cell_type": "markdown",
   "id": "29e2720d",
   "metadata": {},
   "source": [
    "<div style=\"padding:8px 0 3px 15px;border-left:3px solid #a50000;background-color:#fce5e5;\">\n",
    "    <span style=\"font-weight:bold;text-decoration:underline;\">Discussion</span><br/>\n",
    "    \n",
    "Are there any potensial **biases** and **skews** you should think about when working with this dataset?\n",
    "</div>"
   ]
  },
  {
   "cell_type": "raw",
   "id": "73ee004f",
   "metadata": {},
   "source": [
    "There are many columns that could contain \"sensitive\" skews like education, marital status, race, sex etc. Depending on the usecase of the dataset, the user should be careful of the distribution and origin of the dataset.\n",
    "As mentioned by goal 3. Perhaps sex as only Female/male could be conforming or \"inappropriate\" for some.\n"
   ]
  },
  {
   "cell_type": "markdown",
   "id": "38065610-ab0d-42b4-a274-d8d60e3660e9",
   "metadata": {},
   "source": [
    "<div style=\"padding:8px 0 3px 15px;border-left:3px solid #6ffc64;background-color:#e2fce0;\">\n",
    "    <span style=\"font-weight:bold;text-decoration:underline;\">Coding exercise</span><br/>\n",
    "    \n",
    "Implement a function that returns the spans (max-min for numerical columns, number of different values for categorical columns) of all columns for a partition of a dataframe. Fill in for `### TODO` in `get_spans`.\n",
    "</div>"
   ]
  },
  {
   "cell_type": "code",
   "execution_count": 5,
   "id": "055b2508",
   "metadata": {},
   "outputs": [],
   "source": [
    "for name in categorical:\n",
    "    df[name] = df[name].astype('category')"
   ]
  },
  {
   "cell_type": "code",
   "execution_count": 6,
   "id": "070a445d",
   "metadata": {},
   "outputs": [],
   "source": [
    "def get_spans(df, partition):\n",
    "    \"\"\"\n",
    "    :param        df: the dataframe for which to calculate the spans\n",
    "    :param partition: the partition for which to calculate the spans\n",
    "    :        returns: The spans of all columns in the partition\n",
    "    \"\"\"\n",
    "    spans = {}\n",
    "    for column in df.columns:\n",
    "        if column in categorical:\n",
    "            span = len(df[column][partition].unique())\n",
    "        else:\n",
    "            span = df[column][partition].max()-df[column][partition].min()\n",
    "        spans[column] = span\n",
    "    return spans"
   ]
  },
  {
   "cell_type": "code",
   "execution_count": 7,
   "id": "bd33addb",
   "metadata": {},
   "outputs": [
    {
     "data": {
      "text/plain": [
       "{'age': 73,\n",
       " 'workclass': 9,\n",
       " 'fnlwgt': 1478115,\n",
       " 'education': 16,\n",
       " 'education-num': 15,\n",
       " 'marital-status': 7,\n",
       " 'occupation': 15,\n",
       " 'relationship': 6,\n",
       " 'race': 5,\n",
       " 'sex': 2,\n",
       " 'capital-gain': 99999,\n",
       " 'capital-loss': 4356,\n",
       " 'hours-per-week': 98,\n",
       " 'native-country': 42,\n",
       " 'income': 2}"
      ]
     },
     "execution_count": 7,
     "metadata": {},
     "output_type": "execute_result"
    }
   ],
   "source": [
    "full_spans = get_spans(df, df.index)\n",
    "full_spans"
   ]
  },
  {
   "cell_type": "markdown",
   "id": "b545d1b9",
   "metadata": {},
   "source": [
    "The answer should be like this:\n",
    "\n",
    "```\n",
    "{'age': 73,\n",
    " 'workclass': 9,\n",
    " 'fnlwgt': 1478115,\n",
    " 'education': 16,\n",
    " 'education-num': 15,\n",
    " 'marital-status': 7,\n",
    " 'occupation': 15,\n",
    " 'relationship': 6,\n",
    " 'race': 5,\n",
    " 'sex': 2,\n",
    " 'capital-gain': 99999,\n",
    " 'capital-loss': 4356,\n",
    " 'hours-per-week': 98,\n",
    " 'native-country': 42,\n",
    " 'income': 2}\n",
    "```"
   ]
  },
  {
   "cell_type": "markdown",
   "id": "bbf98a99",
   "metadata": {},
   "source": [
    "<div style=\"padding:8px 0 3px 15px;border-left:3px solid #6ffc64;background-color:#e2fce0;\">\n",
    "    <span style=\"font-weight:bold;text-decoration:underline;\">Coding exercise</span><br/>\n",
    "    \n",
    "Implement a `split` function that split the given partition such that all rows with values of the column `column` below the median are in one partition and all rows with values above or equal to the median are in the other. Fill in for `### TODO` in `split`.\n",
    "</div>"
   ]
  },
  {
   "cell_type": "code",
   "execution_count": 8,
   "id": "11fabeb7",
   "metadata": {},
   "outputs": [],
   "source": [
    "def split(df, partition, column):\n",
    "    \"\"\"\n",
    "    :param        df: The dataframe to split\n",
    "    :param partition: The partition to split\n",
    "    :param    column: The column along which to split\n",
    "    :        returns: A tuple containing a split of the original partition\n",
    "    \"\"\"\n",
    "    dfp = df[column][partition]\n",
    "    if column in categorical:\n",
    "        values = dfp.unique()\n",
    "        lv = set(values[:len(values)//2])\n",
    "        rv = set(values[len(values)//2:])\n",
    "        return dfp.index[dfp.isin(lv)], dfp.index[dfp.isin(rv)]\n",
    "    else:        \n",
    "        median = dfp.median()\n",
    "        dfl = dfp.index[dfp < median]\n",
    "        dfr = dfp.index[dfp >= median]\n",
    "        return (dfl, dfr)"
   ]
  },
  {
   "cell_type": "code",
   "execution_count": 9,
   "id": "a2b70108",
   "metadata": {},
   "outputs": [
    {
     "data": {
      "text/plain": [
       "(Int64Index([4, 5, 8, 10, 11, 12, 13, 15, 16, 17], dtype='int64'),\n",
       " Int64Index([0, 1, 2, 3, 6, 7, 9, 14, 18, 19], dtype='int64'))"
      ]
     },
     "execution_count": 9,
     "metadata": {},
     "output_type": "execute_result"
    }
   ],
   "source": [
    "# We test the split function on a subset of the dataset\n",
    "partitions = split(df, df[:20].index, 'age')\n",
    "partitions"
   ]
  },
  {
   "cell_type": "markdown",
   "id": "a7e26cd1",
   "metadata": {},
   "source": [
    "The output should be like this:\n",
    "```\n",
    "(Int64Index([4, 5, 8, 10, 11, 12, 13, 15, 16, 17], dtype='int64'),\n",
    " Int64Index([0, 1, 2, 3, 6, 7, 9, 14, 18, 19], dtype='int64'))\n",
    "```\n",
    "It displays which of our rows belong to each partition. We can see that this particular partitioning was really even. "
   ]
  },
  {
   "cell_type": "markdown",
   "id": "9c0591ef-6815-4f1c-b203-b3a1bc53fc2f",
   "metadata": {},
   "source": [
    "<div style=\"padding:8px 0 3px 15px;border-left:3px solid #6ffc64;background-color:#e2fce0;\">\n",
    "    <span style=\"font-weight:bold;text-decoration:underline;\">Coding exercise</span><br/>\n",
    "    \n",
    "The next helper function we need is just for detecting if a partition is big enough to satisfy our `k`.</br>Fill in for `### TODO` in `is_k_anonymous`.\n",
    "</div>"
   ]
  },
  {
   "cell_type": "code",
   "execution_count": 10,
   "id": "b73d5104",
   "metadata": {},
   "outputs": [],
   "source": [
    "def is_k_anonymous(df, partition, sensitive_column, k=3):\n",
    "    \"\"\"\n",
    "    :param               df: The dataframe on which to check the partition.\n",
    "    :param        partition: The partition of the dataframe to check.\n",
    "    :param sensitive_column: The name of the sensitive column\n",
    "    :param                k: The desired k\n",
    "    :returns               : True if the partition is valid according to our k-anonymity criteria, False otherwise.\n",
    "    \"\"\"\n",
    "    if len(partition) < k:\n",
    "        return False\n",
    "    return True"
   ]
  },
  {
   "cell_type": "markdown",
   "id": "82522c32",
   "metadata": {},
   "source": [
    "Now that we have all helper functions in place, we can implement the partition algorithm discussed above:"
   ]
  },
  {
   "cell_type": "markdown",
   "id": "b5ee9020-8eb6-4795-a71b-2616a23b3af5",
   "metadata": {},
   "source": [
    "<div style=\"padding:8px 0 3px 15px;border-left:3px solid #6ffc64;background-color:#e2fce0;\">\n",
    "    <span style=\"font-weight:bold;text-decoration:underline;\">Coding exercise</span><br/>\n",
    "    \n",
    "Implement the partitioning algorithm descibed in the Partitioning Algorithm section ([here](#Partitioning-Algorithm)), using a k-anonymous criterion for the partitions you create.</br>Fill in for `### TODO` in `partition_dataset`.\n",
    "</div>"
   ]
  },
  {
   "cell_type": "code",
   "execution_count": 11,
   "id": "d6772210",
   "metadata": {},
   "outputs": [],
   "source": [
    "def partition_dataset(df, feature_columns, sensitive_column, is_valid):\n",
    "    \"\"\"\n",
    "    :param               df: The dataframe to be partitioned.\n",
    "    :param  feature_columns: A list of column names along which to partition the dataset.\n",
    "    :param sensitive_column: The name of the sensitive column (to be passed on to the `is_valid` function)\n",
    "    :param         is_valid: A function that takes a dataframe and a partition and returns True if the partition is valid.\n",
    "    :returns               : A list of valid partitions that cover the entire dataframe.\n",
    "    \"\"\"\n",
    "    finished_partitions = []\n",
    "    partitions = [df.index]\n",
    "    while partitions:\n",
    "        partition = partitions.pop(0)\n",
    "        spans = get_spans(df[feature_columns], partition)\n",
    "        # Get the columns with spans in descending order\n",
    "        for column, span in sorted(spans.items(), key=lambda x:-x[1]):\n",
    "            # Split the partitioned columns and check if they are of valid length\n",
    "            lp, rp = split(df, partition, column)\n",
    "            if not is_valid(df, lp, sensitive_column) or not is_valid(df, rp, sensitive_column):\n",
    "                continue\n",
    "            #if they are of valid length, add them to partitions for next iteration to check if they can be further divided\n",
    "            partitions.extend((lp, rp))\n",
    "            break\n",
    "        else:\n",
    "            finished_partitions.append(partition)\n",
    "    return finished_partitions"
   ]
  },
  {
   "cell_type": "markdown",
   "id": "4fb68e13",
   "metadata": {},
   "source": [
    "Now let's try this on our dataset! To keep things simple, we will at first select only two columns from the dataset that we apply the partitioning to. This makes it easier to check/visualize the result and speed up the execution (the naive algorithm can take several minutes when running on the entire dataset) "
   ]
  },
  {
   "cell_type": "code",
   "execution_count": 12,
   "id": "eabe51a9",
   "metadata": {},
   "outputs": [],
   "source": [
    "# we apply our partitioning method to two columns of our dataset, using \"income\" as the sensitive attribute\n",
    "feature_columns = ['age', 'education-num']\n",
    "sensitive_column = 'income'\n",
    "finished_partitions = partition_dataset(df, feature_columns, sensitive_column, is_k_anonymous)"
   ]
  },
  {
   "cell_type": "code",
   "execution_count": 13,
   "id": "9dd4e9b0",
   "metadata": {},
   "outputs": [
    {
     "data": {
      "text/plain": [
       "477"
      ]
     },
     "execution_count": 13,
     "metadata": {},
     "output_type": "execute_result"
    }
   ],
   "source": [
    "# we get the number of partitions that were created\n",
    "len(finished_partitions)"
   ]
  },
  {
   "cell_type": "markdown",
   "id": "44d3ca23",
   "metadata": {},
   "source": [
    "The output of this should be: `477`"
   ]
  },
  {
   "cell_type": "code",
   "execution_count": 14,
   "id": "3096a4b0",
   "metadata": {},
   "outputs": [
    {
     "name": "stdout",
     "output_type": "stream",
     "text": [
      "age              21\n",
      "education-num    10\n",
      "Name: 36, dtype: int64\n",
      "age              21\n",
      "education-num    10\n",
      "Name: 120, dtype: int64\n"
     ]
    }
   ],
   "source": [
    "# We can check that two rows should belong in the same partition\n",
    "partition = finished_partitions[0]\n",
    "print(df[feature_columns].iloc[partition[0]])\n",
    "print(df[feature_columns].iloc[partition[1]])"
   ]
  },
  {
   "cell_type": "markdown",
   "id": "ea3884a6",
   "metadata": {},
   "source": [
    "You should get:\n",
    "```\n",
    "age              21\n",
    "education-num    10\n",
    "Name: 36, dtype: int64\n",
    "age              21\n",
    "education-num    10\n",
    "Name: 120, dtype: int64\n",
    "```\n",
    "We can see that they should both belong in the same partition, which is correct."
   ]
  },
  {
   "cell_type": "markdown",
   "id": "a6ed478c",
   "metadata": {},
   "source": [
    "# Generating an k-Anonymous Dataset\n",
    "\n",
    "Of course, to use the data we want to produce a new dataset that contains one row for each partition and value of the sensitive attribute. To do this, we need to aggregate the columns in each partition.  Let's do this!"
   ]
  },
  {
   "cell_type": "markdown",
   "id": "2f5497a1-fed6-4ad9-9d75-ca4612851964",
   "metadata": {},
   "source": [
    "<div style=\"padding:8px 0 3px 15px;border-left:3px solid #6ffc64;background-color:#e2fce0;\">\n",
    "    <span style=\"font-weight:bold;text-decoration:underline;\">Coding exercise</span><br/>\n",
    "    \n",
    "Define ways to aggregate the values for the final dataset. This will be the combined value of a column. For example `30, 30, 33` to `30-33` or `31` as a mean.</br>\n",
    "Fill in for `### TODO` in `agg_categorical_column` and `agg_numerical_column`.\n",
    "</div>"
   ]
  },
  {
   "cell_type": "code",
   "execution_count": 15,
   "id": "0da4bd9e",
   "metadata": {},
   "outputs": [],
   "source": [
    "# Defining ways to aggregate the values for the final dataset\n",
    "# Be careful about these as they could reveal all aggregated data the way they are currently implemented\n",
    "def agg_categorical_column(series):\n",
    "    return [','.join(set(series))]\n",
    "\n",
    "def agg_numerical_column(series):\n",
    "    return [series.mean()]"
   ]
  },
  {
   "cell_type": "markdown",
   "id": "3c1d8df3-0f96-42b6-8f43-7af6554618f0",
   "metadata": {},
   "source": [
    "<div style=\"padding:8px 0 3px 15px;border-left:3px solid #a50000;background-color:#fce5e5;\">\n",
    "    <span style=\"font-weight:bold;text-decoration:underline;\">Discussion</span><br/>\n",
    "    \n",
    "What are the **pros** and **cons** of your apporach in the above coding exercise?\n",
    "</div>"
   ]
  },
  {
   "cell_type": "raw",
   "id": "e4e331f0-b32c-4953-90c1-66450f971227",
   "metadata": {},
   "source": [
    "By joining categorical values with , you display all values. If you know there are just 3 people in the partition you know all values.\n",
    "A mean could be \"less revealing\" than a range, but you could also lose out on important information for further use of the dataset.\n"
   ]
  },
  {
   "cell_type": "markdown",
   "id": "6b52f227-8293-431e-9721-e83bd344f9e2",
   "metadata": {},
   "source": [
    "<div style=\"padding:8px 0 3px 15px;border-left:3px solid #6ffc64;background-color:#e2fce0;\">\n",
    "    <span style=\"font-weight:bold;text-decoration:underline;\">Coding exercise</span><br/>\n",
    "    \n",
    "Fill in for `### TODO` in `build_anonymized_dataset`. You might need to read it multiple times to understand what is missing. You could also look further down at what the output is supposed to be.\n",
    "</div>"
   ]
  },
  {
   "cell_type": "code",
   "execution_count": 16,
   "id": "0caae901",
   "metadata": {},
   "outputs": [],
   "source": [
    "def build_anonymized_dataset(df, partitions, feature_columns, sensitive_column):\n",
    "    aggregations = {}\n",
    "    for column in feature_columns:\n",
    "        # Define the row values for the final dataset by aggregation\n",
    "        if column in categorical:\n",
    "            aggregations[column] = agg_categorical_column\n",
    "        else:\n",
    "            aggregations[column] = agg_numerical_column\n",
    "    # Here we store the generated rows\n",
    "    rows = []\n",
    "    for partition in partitions:\n",
    "        grouped_columns = df.loc[partition].agg(aggregations, squeeze=False)\n",
    "        sensitive_counts = df.loc[partition].groupby(sensitive_column).agg({sensitive_column : 'count'})\n",
    "        values = {}\n",
    "        for name,val in grouped_columns.items():\n",
    "            values[name] = val[0]\n",
    "        for sensitive_value, count in sensitive_counts[sensitive_column].items():\n",
    "            # Drop empty rows\n",
    "            if count == 0:\n",
    "                continue\n",
    "            values.update({\n",
    "                sensitive_column : sensitive_value,\n",
    "                'count' : count,\n",
    "            })\n",
    "            rows.append(values.copy())\n",
    "    return pd.DataFrame(rows)"
   ]
  },
  {
   "cell_type": "code",
   "execution_count": 17,
   "id": "e5a2e642",
   "metadata": {},
   "outputs": [],
   "source": [
    "# Generate the k-anonymized dataset\n",
    "dfn = build_anonymized_dataset(df, finished_partitions, feature_columns, sensitive_column)"
   ]
  },
  {
   "cell_type": "code",
   "execution_count": 18,
   "id": "df9cb2a1",
   "metadata": {},
   "outputs": [
    {
     "data": {
      "text/html": [
       "<div>\n",
       "<style scoped>\n",
       "    .dataframe tbody tr th:only-of-type {\n",
       "        vertical-align: middle;\n",
       "    }\n",
       "\n",
       "    .dataframe tbody tr th {\n",
       "        vertical-align: top;\n",
       "    }\n",
       "\n",
       "    .dataframe thead th {\n",
       "        text-align: right;\n",
       "    }\n",
       "</style>\n",
       "<table border=\"1\" class=\"dataframe\">\n",
       "  <thead>\n",
       "    <tr style=\"text-align: right;\">\n",
       "      <th></th>\n",
       "      <th>age</th>\n",
       "      <th>education-num</th>\n",
       "      <th>income</th>\n",
       "      <th>count</th>\n",
       "    </tr>\n",
       "  </thead>\n",
       "  <tbody>\n",
       "    <tr>\n",
       "      <th>500</th>\n",
       "      <td>17.0</td>\n",
       "      <td>3.000000</td>\n",
       "      <td>&lt;=50k</td>\n",
       "      <td>3</td>\n",
       "    </tr>\n",
       "    <tr>\n",
       "      <th>501</th>\n",
       "      <td>17.0</td>\n",
       "      <td>4.000000</td>\n",
       "      <td>&lt;=50k</td>\n",
       "      <td>5</td>\n",
       "    </tr>\n",
       "    <tr>\n",
       "      <th>213</th>\n",
       "      <td>17.0</td>\n",
       "      <td>5.000000</td>\n",
       "      <td>&lt;=50k</td>\n",
       "      <td>36</td>\n",
       "    </tr>\n",
       "    <tr>\n",
       "      <th>17</th>\n",
       "      <td>17.0</td>\n",
       "      <td>7.000000</td>\n",
       "      <td>&lt;=50k</td>\n",
       "      <td>267</td>\n",
       "    </tr>\n",
       "    <tr>\n",
       "      <th>19</th>\n",
       "      <td>17.0</td>\n",
       "      <td>8.172840</td>\n",
       "      <td>&lt;=50k</td>\n",
       "      <td>81</td>\n",
       "    </tr>\n",
       "    <tr>\n",
       "      <th>...</th>\n",
       "      <td>...</td>\n",
       "      <td>...</td>\n",
       "      <td>...</td>\n",
       "      <td>...</td>\n",
       "    </tr>\n",
       "    <tr>\n",
       "      <th>734</th>\n",
       "      <td>90.0</td>\n",
       "      <td>9.000000</td>\n",
       "      <td>&gt;50k</td>\n",
       "      <td>4</td>\n",
       "    </tr>\n",
       "    <tr>\n",
       "      <th>762</th>\n",
       "      <td>90.0</td>\n",
       "      <td>10.545455</td>\n",
       "      <td>&lt;=50k</td>\n",
       "      <td>9</td>\n",
       "    </tr>\n",
       "    <tr>\n",
       "      <th>763</th>\n",
       "      <td>90.0</td>\n",
       "      <td>10.545455</td>\n",
       "      <td>&gt;50k</td>\n",
       "      <td>2</td>\n",
       "    </tr>\n",
       "    <tr>\n",
       "      <th>764</th>\n",
       "      <td>90.0</td>\n",
       "      <td>13.647059</td>\n",
       "      <td>&lt;=50k</td>\n",
       "      <td>10</td>\n",
       "    </tr>\n",
       "    <tr>\n",
       "      <th>765</th>\n",
       "      <td>90.0</td>\n",
       "      <td>13.647059</td>\n",
       "      <td>&gt;50k</td>\n",
       "      <td>7</td>\n",
       "    </tr>\n",
       "  </tbody>\n",
       "</table>\n",
       "<p>791 rows × 4 columns</p>\n",
       "</div>"
      ],
      "text/plain": [
       "      age  education-num income  count\n",
       "500  17.0       3.000000  <=50k      3\n",
       "501  17.0       4.000000  <=50k      5\n",
       "213  17.0       5.000000  <=50k     36\n",
       "17   17.0       7.000000  <=50k    267\n",
       "19   17.0       8.172840  <=50k     81\n",
       "..    ...            ...    ...    ...\n",
       "734  90.0       9.000000   >50k      4\n",
       "762  90.0      10.545455  <=50k      9\n",
       "763  90.0      10.545455   >50k      2\n",
       "764  90.0      13.647059  <=50k     10\n",
       "765  90.0      13.647059   >50k      7\n",
       "\n",
       "[791 rows x 4 columns]"
      ]
     },
     "execution_count": 18,
     "metadata": {},
     "output_type": "execute_result"
    }
   ],
   "source": [
    "# we sort the resulting dataframe using the feature columns and the sensitive attribute\n",
    "dfn.sort_values(feature_columns+[sensitive_column])"
   ]
  },
  {
   "cell_type": "markdown",
   "id": "61da000f",
   "metadata": {},
   "source": [
    "The output should be like this:\n",
    "\n",
    "|     | age |\teducation-num |\tincome   |\tcount |\n",
    "|-----|-----|-----------------|----------|--------|\n",
    "| 469 |\t17.0|      \t3.000000  |\t<=50k    |\t3     |\n",
    "| 615 |\t17.0|      \t4.000000  |\t<=50k    |\t5     |"
   ]
  },
  {
   "cell_type": "markdown",
   "id": "b7a80f20-3df6-47ab-8cf0-528b4b906c64",
   "metadata": {},
   "source": [
    "## A break from coding"
   ]
  },
  {
   "cell_type": "markdown",
   "id": "53c7e33b",
   "metadata": {},
   "source": [
    "We have now implemented k-anonymity and checked that it works.\n",
    "\n",
    "Here are some finishing questions to help you reflect over what you have learned and keep in touch with the goals of the notebook."
   ]
  },
  {
   "cell_type": "markdown",
   "id": "5dd9c666",
   "metadata": {},
   "source": [
    "<div style=\"padding:8px 0 3px 15px;border-left:3px solid #5661e2;background-color:#e5f2fc;\">\n",
    "    <span style=\"font-weight:bold;text-decoration:underline;\">Question</span><br/>\n",
    "    \n",
    "Is the dataset secure if you have achieved k-anonymity? Why or why not?\n",
    "</div>"
   ]
  },
  {
   "cell_type": "raw",
   "id": "7f275062",
   "metadata": {},
   "source": [
    "\n",
    "\n"
   ]
  },
  {
   "cell_type": "markdown",
   "id": "f22e0f77",
   "metadata": {},
   "source": [
    "<div style=\"padding:8px 0 3px 15px;border-left:3px solid #a50000;background-color:#fce5e5;\">\n",
    "    <span style=\"font-weight:bold;text-decoration:underline;\">Discussion</span><br/>\n",
    "    \n",
    "Think about your past three days, have you encountered any situation where bias implemented by engineering had an effect on you?\n",
    "</div>"
   ]
  },
  {
   "cell_type": "raw",
   "id": "1b9bce9d",
   "metadata": {},
   "source": [
    "This could be really difficult for students to answer as they are habitual to many such biases, but if they don't remember anything they could perhaps do it for someone else, like someone in a wheelchair or that are blind etc.\n",
    "\n"
   ]
  },
  {
   "cell_type": "markdown",
   "id": "63061c61-ebb1-4628-b79c-dc403285cf9d",
   "metadata": {},
   "source": [
    "## L-diversity"
   ]
  },
  {
   "cell_type": "markdown",
   "id": "a0afb153-4916-4148-b03d-d4aa0a2841c1",
   "metadata": {},
   "source": [
    "Take a look at the 2-anonymous dataset of Dr. Bob ([Here](#Table-2)). If you remove the first row, is it still 2-anonymous? What could be the problem for anonymity with this dataset? "
   ]
  },
  {
   "cell_type": "markdown",
   "id": "da53c531-d24b-45cb-84e0-719dc5842feb",
   "metadata": {},
   "source": [
    "L-diversity ensures that each k-anonymous group contains at least l different values of the sensitive attribute. Therefore, even if an adversary can identify the group of a person he/she still would not be able to find out the value of that person's sensitive attribute with certainty. A problem that might happen in k-anonymity is that all people in a k-anonymous group possess the same value of the sensitive attribute. An adversary who knows that a person is in that k-anonymous group can then still learn the value of the sensitive attribute of that person with absolute certainty. This problem can be fixed by using l-diversity."
   ]
  },
  {
   "cell_type": "markdown",
   "id": "be16ffd2-5775-4c67-b6c0-4574ec15593b",
   "metadata": {},
   "source": [
    "### Implementing l-diversity"
   ]
  },
  {
   "cell_type": "markdown",
   "id": "59eaeee1-2de1-4aa4-8453-fb219a56585b",
   "metadata": {},
   "source": [
    "Luckily, if we want to implement l-diversity there is not much that needs to be added to our code."
   ]
  },
  {
   "cell_type": "markdown",
   "id": "59ed0c2a-45fd-4237-8f74-378af9030573",
   "metadata": {},
   "source": [
    "<div style=\"padding:8px 0 3px 15px;border-left:3px solid #6ffc64;background-color:#e2fce0;\">\n",
    "    <span style=\"font-weight:bold;text-decoration:underline;\">Coding exercise</span><br/>\n",
    "    \n",
    "Fill in for `### TODO` in `diversity`.\n",
    "</div>"
   ]
  },
  {
   "cell_type": "code",
   "execution_count": 19,
   "id": "c1aa1c8d-ca01-49be-9160-3fce378a4080",
   "metadata": {},
   "outputs": [],
   "source": [
    "def diversity(df, partition, column):\n",
    "    return len(df[column][partition].unique())\n",
    "\n",
    "def is_l_diverse(df, partition, sensitive_column, l=2):\n",
    "    \"\"\"\n",
    "    :param               df: The dataframe for which to check l-diversity\n",
    "    :param        partition: The partition of the dataframe on which to check l-diversity\n",
    "    :param sensitive_column: The name of the sensitive column\n",
    "    :param                l: The minimum required diversity of sensitive attribute values in the partition\n",
    "    \"\"\"\n",
    "    return diversity(df, partition, sensitive_column) >= l"
   ]
  },
  {
   "cell_type": "code",
   "execution_count": 21,
   "id": "eba2c5f6-109f-481d-b3bf-580a8469fabf",
   "metadata": {},
   "outputs": [],
   "source": [
    "# now let's apply this method to our data and see how the result changes\n",
    "finished_l_diverse_partitions = partition_dataset(df, feature_columns, sensitive_column, lambda *args: is_k_anonymous(*args) and is_l_diverse(*args))"
   ]
  },
  {
   "cell_type": "code",
   "execution_count": 22,
   "id": "791a5ff9-a6e7-4fd0-8334-e7ec433e3277",
   "metadata": {},
   "outputs": [
    {
     "data": {
      "text/plain": [
       "304"
      ]
     },
     "execution_count": 22,
     "metadata": {},
     "output_type": "execute_result"
    }
   ],
   "source": [
    "len(finished_l_diverse_partitions)"
   ]
  },
  {
   "cell_type": "code",
   "execution_count": 23,
   "id": "ecc63849-03ed-4e15-abf2-7e035e5ae600",
   "metadata": {},
   "outputs": [],
   "source": [
    "# again we build an anonymized dataset from the l-diverse partitions\n",
    "dfl = build_anonymized_dataset(df, finished_l_diverse_partitions, feature_columns, sensitive_column)"
   ]
  },
  {
   "cell_type": "code",
   "execution_count": 26,
   "id": "2afcec26-e70a-4d5a-bff4-795b035f21e0",
   "metadata": {},
   "outputs": [
    {
     "data": {
      "text/html": [
       "<div>\n",
       "<style scoped>\n",
       "    .dataframe tbody tr th:only-of-type {\n",
       "        vertical-align: middle;\n",
       "    }\n",
       "\n",
       "    .dataframe tbody tr th {\n",
       "        vertical-align: top;\n",
       "    }\n",
       "\n",
       "    .dataframe thead th {\n",
       "        text-align: right;\n",
       "    }\n",
       "</style>\n",
       "<table border=\"1\" class=\"dataframe\">\n",
       "  <thead>\n",
       "    <tr style=\"text-align: right;\">\n",
       "      <th></th>\n",
       "      <th>age</th>\n",
       "      <th>education-num</th>\n",
       "      <th>income</th>\n",
       "      <th>count</th>\n",
       "    </tr>\n",
       "  </thead>\n",
       "  <tbody>\n",
       "    <tr>\n",
       "      <th>0</th>\n",
       "      <td>17.812087</td>\n",
       "      <td>6.376771</td>\n",
       "      <td>&lt;=50k</td>\n",
       "      <td>1058</td>\n",
       "    </tr>\n",
       "    <tr>\n",
       "      <th>1</th>\n",
       "      <td>17.812087</td>\n",
       "      <td>6.376771</td>\n",
       "      <td>&gt;50k</td>\n",
       "      <td>1</td>\n",
       "    </tr>\n",
       "    <tr>\n",
       "      <th>2</th>\n",
       "      <td>18.894262</td>\n",
       "      <td>8.822131</td>\n",
       "      <td>&lt;=50k</td>\n",
       "      <td>1218</td>\n",
       "    </tr>\n",
       "    <tr>\n",
       "      <th>3</th>\n",
       "      <td>18.894262</td>\n",
       "      <td>8.822131</td>\n",
       "      <td>&gt;50k</td>\n",
       "      <td>2</td>\n",
       "    </tr>\n",
       "    <tr>\n",
       "      <th>4</th>\n",
       "      <td>19.333333</td>\n",
       "      <td>10.054315</td>\n",
       "      <td>&lt;=50k</td>\n",
       "      <td>1343</td>\n",
       "    </tr>\n",
       "    <tr>\n",
       "      <th>...</th>\n",
       "      <td>...</td>\n",
       "      <td>...</td>\n",
       "      <td>...</td>\n",
       "      <td>...</td>\n",
       "    </tr>\n",
       "    <tr>\n",
       "      <th>573</th>\n",
       "      <td>90.000000</td>\n",
       "      <td>9.000000</td>\n",
       "      <td>&gt;50k</td>\n",
       "      <td>4</td>\n",
       "    </tr>\n",
       "    <tr>\n",
       "      <th>592</th>\n",
       "      <td>90.000000</td>\n",
       "      <td>10.545455</td>\n",
       "      <td>&lt;=50k</td>\n",
       "      <td>9</td>\n",
       "    </tr>\n",
       "    <tr>\n",
       "      <th>593</th>\n",
       "      <td>90.000000</td>\n",
       "      <td>10.545455</td>\n",
       "      <td>&gt;50k</td>\n",
       "      <td>2</td>\n",
       "    </tr>\n",
       "    <tr>\n",
       "      <th>594</th>\n",
       "      <td>90.000000</td>\n",
       "      <td>13.647059</td>\n",
       "      <td>&lt;=50k</td>\n",
       "      <td>10</td>\n",
       "    </tr>\n",
       "    <tr>\n",
       "      <th>595</th>\n",
       "      <td>90.000000</td>\n",
       "      <td>13.647059</td>\n",
       "      <td>&gt;50k</td>\n",
       "      <td>7</td>\n",
       "    </tr>\n",
       "  </tbody>\n",
       "</table>\n",
       "<p>608 rows × 4 columns</p>\n",
       "</div>"
      ],
      "text/plain": [
       "           age  education-num income  count\n",
       "0    17.812087       6.376771  <=50k   1058\n",
       "1    17.812087       6.376771   >50k      1\n",
       "2    18.894262       8.822131  <=50k   1218\n",
       "3    18.894262       8.822131   >50k      2\n",
       "4    19.333333      10.054315  <=50k   1343\n",
       "..         ...            ...    ...    ...\n",
       "573  90.000000       9.000000   >50k      4\n",
       "592  90.000000      10.545455  <=50k      9\n",
       "593  90.000000      10.545455   >50k      2\n",
       "594  90.000000      13.647059  <=50k     10\n",
       "595  90.000000      13.647059   >50k      7\n",
       "\n",
       "[608 rows x 4 columns]"
      ]
     },
     "execution_count": 26,
     "metadata": {},
     "output_type": "execute_result"
    }
   ],
   "source": [
    "# Let's see how l-diversity improves the anonymity of our dataset\n",
    "dfl.sort_values(feature_columns+[sensitive_column])"
   ]
  },
  {
   "cell_type": "markdown",
   "id": "7de09286-6ff5-4327-a4de-2a132ed1ab17",
   "metadata": {},
   "source": [
    "## T-closeness"
   ]
  },
  {
   "cell_type": "markdown",
   "id": "d924721f-df8d-4a5f-ad44-34c7ce9643af",
   "metadata": {},
   "source": [
    "T-closeness is a further refinement of l-diversity group based anonymization that is used to preserve privacy in data sets by reducing the granularity of a data representation. The t-closeness model extends the l-diversity model by treating the values of an attribute distinctly by taking into account the distribution of data values for that attribute. T-closeness requires that the distribution of a sensitive attribute in any equivalence class is close to the distribution of the attribute in the overall table.\n",
    "\n",
    "For more reading on the topic, please see: \n",
    "- [t-Closeness: Privacy Beyond k-Anonymity and ℓ-Diversity](https://citeseerx.ist.psu.edu/viewdoc/summary?doi=10.1.1.158.6171)"
   ]
  },
  {
   "cell_type": "code",
   "execution_count": 27,
   "id": "6bbcb834-5b32-463b-be0b-312de69e6434",
   "metadata": {},
   "outputs": [],
   "source": [
    "# here we generate the global frequencies for the sensitive column \n",
    "global_freqs = {}\n",
    "total_count = float(len(df))\n",
    "group_counts = df.groupby(sensitive_column)[sensitive_column].agg('count')\n",
    "for value, count in group_counts.to_dict().items():\n",
    "    p = count/total_count\n",
    "    global_freqs[value] = p"
   ]
  },
  {
   "cell_type": "code",
   "execution_count": 28,
   "id": "d05bb1c3-7c9c-4184-8eed-9f415c923a65",
   "metadata": {},
   "outputs": [
    {
     "data": {
      "text/plain": [
       "{'<=50k': 0.7607182343065395, '>50k': 0.23928176569346055}"
      ]
     },
     "execution_count": 28,
     "metadata": {},
     "output_type": "execute_result"
    }
   ],
   "source": [
    "global_freqs"
   ]
  },
  {
   "cell_type": "code",
   "execution_count": 29,
   "id": "90902892-6fce-4405-8a7a-6b4265b8021e",
   "metadata": {},
   "outputs": [],
   "source": [
    "def t_closeness(df, partition, column, global_freqs):\n",
    "    total_count = float(len(partition))\n",
    "    d_max = None\n",
    "    group_counts = df.loc[partition].groupby(column)[column].agg('count')\n",
    "    for value, count in group_counts.to_dict().items():\n",
    "        p = count/total_count\n",
    "        d = abs(p-global_freqs[value])\n",
    "        if d_max is None or d > d_max:\n",
    "            d_max = d\n",
    "    return d_max\n",
    "\n",
    "\n",
    "def is_t_close(df, partition, sensitive_column, global_freqs, p=0.2):\n",
    "    \"\"\"\n",
    "    :param               df: The dataframe for which to check l-diversity\n",
    "    :param        partition: The partition of the dataframe on which to check l-diversity\n",
    "    :param sensitive_column: The name of the sensitive column\n",
    "    :param     global_freqs: The global frequencies of the sensitive attribute values\n",
    "    :param                p: The maximum allowed Kolmogorov-Smirnov distance\n",
    "    \"\"\"\n",
    "    if not sensitive_column in categorical:\n",
    "        raise ValueError(\"this method only works for categorical values\")\n",
    "    return t_closeness(df, partition, sensitive_column, global_freqs) <= p"
   ]
  },
  {
   "cell_type": "markdown",
   "id": "7534fddb-9711-4b90-9e10-35fa075efe92",
   "metadata": {},
   "source": [
    "<div style=\"padding:8px 0 3px 15px;border-left:3px solid #6ffc64;background-color:#e2fce0;\">\n",
    "    <span style=\"font-weight:bold;text-decoration:underline;\">Coding exercise</span><br/>\n",
    "    \n",
    "Fill in for `### TODO` below. You should create a variable `finished_t_close_partitions` that uses `partition_dataset` with k-anonymity and t-closeness.\n",
    "</div>"
   ]
  },
  {
   "cell_type": "code",
   "execution_count": 30,
   "id": "19f253b9-20d6-403b-bcbf-725175b284ef",
   "metadata": {},
   "outputs": [],
   "source": [
    "# Let's apply this to our dataset\n",
    "finished_t_close_partitions = partition_dataset(df, feature_columns, sensitive_column, lambda *args: is_k_anonymous(*args) and is_t_close(*args, global_freqs))"
   ]
  },
  {
   "cell_type": "code",
   "execution_count": 31,
   "id": "b7890b48-d9b5-434a-af5c-f687a9d6eb10",
   "metadata": {},
   "outputs": [
    {
     "data": {
      "text/plain": [
       "115"
      ]
     },
     "execution_count": 31,
     "metadata": {},
     "output_type": "execute_result"
    }
   ],
   "source": [
    "len(finished_t_close_partitions)"
   ]
  },
  {
   "cell_type": "code",
   "execution_count": 32,
   "id": "630b752f-8e9c-4a08-b539-33aeca7e15d3",
   "metadata": {},
   "outputs": [],
   "source": [
    "dft = build_anonymized_dataset(df, finished_t_close_partitions, feature_columns, sensitive_column)"
   ]
  },
  {
   "cell_type": "code",
   "execution_count": 33,
   "id": "bca8aac3-e955-4bf2-8a29-493e31443b2b",
   "metadata": {},
   "outputs": [
    {
     "data": {
      "text/html": [
       "<div>\n",
       "<style scoped>\n",
       "    .dataframe tbody tr th:only-of-type {\n",
       "        vertical-align: middle;\n",
       "    }\n",
       "\n",
       "    .dataframe tbody tr th {\n",
       "        vertical-align: top;\n",
       "    }\n",
       "\n",
       "    .dataframe thead th {\n",
       "        text-align: right;\n",
       "    }\n",
       "</style>\n",
       "<table border=\"1\" class=\"dataframe\">\n",
       "  <thead>\n",
       "    <tr style=\"text-align: right;\">\n",
       "      <th></th>\n",
       "      <th>age</th>\n",
       "      <th>education-num</th>\n",
       "      <th>income</th>\n",
       "      <th>count</th>\n",
       "    </tr>\n",
       "  </thead>\n",
       "  <tbody>\n",
       "    <tr>\n",
       "      <th>2</th>\n",
       "      <td>23.000159</td>\n",
       "      <td>11.040885</td>\n",
       "      <td>&lt;=50k</td>\n",
       "      <td>6021</td>\n",
       "    </tr>\n",
       "    <tr>\n",
       "      <th>3</th>\n",
       "      <td>23.000159</td>\n",
       "      <td>11.040885</td>\n",
       "      <td>&gt;50k</td>\n",
       "      <td>265</td>\n",
       "    </tr>\n",
       "    <tr>\n",
       "      <th>0</th>\n",
       "      <td>26.697666</td>\n",
       "      <td>8.124394</td>\n",
       "      <td>&lt;=50k</td>\n",
       "      <td>10248</td>\n",
       "    </tr>\n",
       "    <tr>\n",
       "      <th>1</th>\n",
       "      <td>26.697666</td>\n",
       "      <td>8.124394</td>\n",
       "      <td>&gt;50k</td>\n",
       "      <td>677</td>\n",
       "    </tr>\n",
       "    <tr>\n",
       "      <th>42</th>\n",
       "      <td>28.477519</td>\n",
       "      <td>13.341085</td>\n",
       "      <td>&lt;=50k</td>\n",
       "      <td>450</td>\n",
       "    </tr>\n",
       "    <tr>\n",
       "      <th>...</th>\n",
       "      <td>...</td>\n",
       "      <td>...</td>\n",
       "      <td>...</td>\n",
       "      <td>...</td>\n",
       "    </tr>\n",
       "    <tr>\n",
       "      <th>225</th>\n",
       "      <td>90.000000</td>\n",
       "      <td>9.000000</td>\n",
       "      <td>&gt;50k</td>\n",
       "      <td>4</td>\n",
       "    </tr>\n",
       "    <tr>\n",
       "      <th>226</th>\n",
       "      <td>90.000000</td>\n",
       "      <td>10.545455</td>\n",
       "      <td>&lt;=50k</td>\n",
       "      <td>9</td>\n",
       "    </tr>\n",
       "    <tr>\n",
       "      <th>227</th>\n",
       "      <td>90.000000</td>\n",
       "      <td>10.545455</td>\n",
       "      <td>&gt;50k</td>\n",
       "      <td>2</td>\n",
       "    </tr>\n",
       "    <tr>\n",
       "      <th>228</th>\n",
       "      <td>90.000000</td>\n",
       "      <td>13.647059</td>\n",
       "      <td>&lt;=50k</td>\n",
       "      <td>10</td>\n",
       "    </tr>\n",
       "    <tr>\n",
       "      <th>229</th>\n",
       "      <td>90.000000</td>\n",
       "      <td>13.647059</td>\n",
       "      <td>&gt;50k</td>\n",
       "      <td>7</td>\n",
       "    </tr>\n",
       "  </tbody>\n",
       "</table>\n",
       "<p>230 rows × 4 columns</p>\n",
       "</div>"
      ],
      "text/plain": [
       "           age  education-num income  count\n",
       "2    23.000159      11.040885  <=50k   6021\n",
       "3    23.000159      11.040885   >50k    265\n",
       "0    26.697666       8.124394  <=50k  10248\n",
       "1    26.697666       8.124394   >50k    677\n",
       "42   28.477519      13.341085  <=50k    450\n",
       "..         ...            ...    ...    ...\n",
       "225  90.000000       9.000000   >50k      4\n",
       "226  90.000000      10.545455  <=50k      9\n",
       "227  90.000000      10.545455   >50k      2\n",
       "228  90.000000      13.647059  <=50k     10\n",
       "229  90.000000      13.647059   >50k      7\n",
       "\n",
       "[230 rows x 4 columns]"
      ]
     },
     "execution_count": 33,
     "metadata": {},
     "output_type": "execute_result"
    }
   ],
   "source": [
    "# Let's see how t-closeness fares\n",
    "dft.sort_values(feature_columns+[sensitive_column])"
   ]
  },
  {
   "cell_type": "markdown",
   "id": "fb3f128f-309d-4cc3-b00a-7c70111bf56d",
   "metadata": {},
   "source": [
    "## Finishing"
   ]
  },
  {
   "cell_type": "markdown",
   "id": "d49008ae-afe8-4a1f-9143-cb9ab873d856",
   "metadata": {},
   "source": [
    "You have now gone through a large notebook with lots of exercies, these finishing questions should help you reflect over what you have learned. And remember that what you have learned is only useful if you could use it outside of this notebook."
   ]
  },
  {
   "cell_type": "markdown",
   "id": "54fc9d53-6466-445f-885e-3cf6696727c5",
   "metadata": {},
   "source": [
    "<div style=\"padding:8px 0 3px 15px;border-left:3px solid #a50000;background-color:#fce5e5;\">\n",
    "    <span style=\"font-weight:bold;text-decoration:underline;\">Discussion</span><br/>\n",
    "    \n",
    "How would you explain k-anonymity, l-diversity and t-closedness to a 10-year old?\n",
    "</div>"
   ]
  },
  {
   "cell_type": "raw",
   "id": "22f4a398-e154-4705-8109-bb50639cdf26",
   "metadata": {},
   "source": [
    "\n",
    "\n",
    "\n"
   ]
  },
  {
   "cell_type": "markdown",
   "id": "2938adbb-207e-4201-a57b-2836f2732955",
   "metadata": {},
   "source": [
    "<div style=\"padding:8px 0 3px 15px;border-left:3px solid #a50000;background-color:#fce5e5;\">\n",
    "    <span style=\"font-weight:bold;text-decoration:underline;\">Discussion</span><br/>\n",
    "    \n",
    "Imagine you work for a company that needs to adhere to ethical standards. They give you a large raw dataset about crime in Switzerland and expect you to publish it to the public. What do you need to do?\n",
    "</div>"
   ]
  },
  {
   "cell_type": "raw",
   "id": "90bdf658-eb4d-442f-b2d9-76332074a78d",
   "metadata": {},
   "source": [
    "Check that it follows protocols for privacy etc. You could also check for biases and skews and perhaps inform about this.\n",
    "\n",
    "\n"
   ]
  },
  {
   "cell_type": "markdown",
   "id": "e24f01b0-cfa0-400b-8cdd-3ad5760c6bfa",
   "metadata": {},
   "source": [
    "<div style=\"padding:8px 0 3px 15px;border-left:3px solid #a50000;background-color:#fce5e5;\">\n",
    "    <span style=\"font-weight:bold;text-decoration:underline;\">Discussion</span><br/>\n",
    "    \n",
    "How do you check for k-anonymity and l-diversity in a dataset?\n",
    "</div>"
   ]
  },
  {
   "cell_type": "raw",
   "id": "a81b6c98-b1a3-470e-aa7f-4f21cee965f0",
   "metadata": {},
   "source": [
    "If the dataset does not combine k/l partitions into the same row, it should be as easy as to check for \"duplicate\" rows  without the sensitive column for k-anonymity and check for unique values for the sensitive column within these groups.\n",
    "\n",
    "\n"
   ]
  },
  {
   "cell_type": "markdown",
   "id": "03e671ea-e697-4a74-9db7-0a7d9076ba0d",
   "metadata": {},
   "source": [
    "<div style=\"padding:8px 0 3px 15px;border-left:3px solid #a50000;background-color:#fce5e5;\">\n",
    "    <span style=\"font-weight:bold;text-decoration:underline;\">Discussion</span><br/>\n",
    "    \n",
    "You have just implemented k-anonymity, l-diversity and t-closedness in a dataset. Is it secure?\n",
    "</div>"
   ]
  },
  {
   "cell_type": "raw",
   "id": "9ff81965-12cd-4eab-b564-1b4e4a8d5669",
   "metadata": {},
   "source": [
    "Still no. There could always be side-information that exposes certain users. This could escpecially be the case with multiple sensitive column, where one could identify a person based on other sensitive information the adversay knows.\n",
    "Perhaps Differential Privacy could be mentioned here as a further step to a solution.\n",
    "\n"
   ]
  },
  {
   "cell_type": "markdown",
   "id": "421fea72-b5f9-47f2-9c5e-a6b7b8104fbe",
   "metadata": {},
   "source": [
    "**Congratulations!** You have reached the end!"
   ]
  }
 ],
 "metadata": {
  "kernelspec": {
   "display_name": "Python 3 (ipykernel)",
   "language": "python",
   "name": "python3"
  },
  "language_info": {
   "codemirror_mode": {
    "name": "ipython",
    "version": 3
   },
   "file_extension": ".py",
   "mimetype": "text/x-python",
   "name": "python",
   "nbconvert_exporter": "python",
   "pygments_lexer": "ipython3",
   "version": "3.10.2"
  }
 },
 "nbformat": 4,
 "nbformat_minor": 5
}
